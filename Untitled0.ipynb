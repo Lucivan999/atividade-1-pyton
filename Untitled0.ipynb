{
  "nbformat": 4,
  "nbformat_minor": 0,
  "metadata": {
    "colab": {
      "provenance": [],
      "authorship_tag": "ABX9TyOgBcEEb+ZEQ+QJko78ZdK7",
      "include_colab_link": true
    },
    "kernelspec": {
      "name": "python3",
      "display_name": "Python 3"
    },
    "language_info": {
      "name": "python"
    }
  },
  "cells": [
    {
      "cell_type": "markdown",
      "metadata": {
        "id": "view-in-github",
        "colab_type": "text"
      },
      "source": [
        "<a href=\"https://colab.research.google.com/github/Lucivan999/atividade-1-pyton/blob/main/Untitled0.ipynb\" target=\"_parent\"><img src=\"https://colab.research.google.com/assets/colab-badge.svg\" alt=\"Open In Colab\"/></a>"
      ]
    },
    {
      "cell_type": "code",
      "execution_count": 1,
      "metadata": {
        "colab": {
          "base_uri": "https://localhost:8080/"
        },
        "id": "uWGnnCcbHk9t",
        "outputId": "65984bf8-2cac-42bb-c0b0-f03032371009"
      },
      "outputs": [
        {
          "output_type": "stream",
          "name": "stdout",
          "text": [
            "OLÀ ETE PORTO DE GITAL\n"
          ]
        }
      ],
      "source": [
        "print (\"OLÀ ETE PORTO DE GITAL\")"
      ]
    },
    {
      "cell_type": "code",
      "source": [
        "numero = input (\"Digite seu numero:\")\n",
        "print (\"O numero informado foi:\" + numero + \".\")"
      ],
      "metadata": {
        "colab": {
          "base_uri": "https://localhost:8080/"
        },
        "id": "yi46VUfIIONs",
        "outputId": "43012acc-35a1-409d-8660-987cfb5a8eb9"
      },
      "execution_count": 2,
      "outputs": [
        {
          "output_type": "stream",
          "name": "stdout",
          "text": [
            "Digite seu numero:15\n",
            "O numero informado foi:15.\n"
          ]
        }
      ]
    },
    {
      "cell_type": "code",
      "source": [
        "numero1 = float (input (\"digite o primeiro numero que gostaria de somar:\"))\n",
        "numero2 = float (input (\"digite o segundo numero que gostaria de somar com o primeiro:\"))\n",
        "soma = numero1 + numero2\n",
        "print(\"A soma de\", numero1, \"e\", numero2, \"é igual a\", soma)\n"
      ],
      "metadata": {
        "colab": {
          "base_uri": "https://localhost:8080/"
        },
        "id": "eh9_xuIkIydl",
        "outputId": "886b0b47-bfad-455b-dda2-d4085bdb7ffd"
      },
      "execution_count": 9,
      "outputs": [
        {
          "output_type": "stream",
          "name": "stdout",
          "text": [
            "digite o primeiro numero que gostaria de somar:5\n",
            "digite o segundo numero que gostaria de somar com o primeiro:5\n",
            "A soma de 5.0 e 5.0 é igual a 10.0\n"
          ]
        }
      ]
    },
    {
      "cell_type": "code",
      "source": [
        "metros = float (input(\"digite a medida de metros:\"))\n",
        "\n",
        "centimetros = metros * 100\n",
        "print (metros, \"metros equivalem a\", centimetros, \"centimetros\")"
      ],
      "metadata": {
        "colab": {
          "base_uri": "https://localhost:8080/"
        },
        "id": "SjPBcs21KXWV",
        "outputId": "e4f79a31-687b-4aeb-8bae-a28317fcd633"
      },
      "execution_count": 13,
      "outputs": [
        {
          "output_type": "stream",
          "name": "stdout",
          "text": [
            "digite a medida de metros:3\n",
            "3.0 metros equivalem a 300.0 centimetros\n"
          ]
        }
      ]
    },
    {
      "cell_type": "code",
      "source": [
        "nota1 = float(input(\"Digite a nota do 1º bimestre: \"))\n",
        "nota2 = float(input(\"Digite a nota do 2º bimestre: \"))\n",
        "nota3 = float(input(\"Digite a nota do 3º bimestre: \"))\n",
        "nota4 = float(input(\"Digite a nota do 4º bimestre: \"))\n",
        "\n",
        "media = (nota1 + nota2 + nota3 + nota4)/4\n",
        "print(\"A media final é:\", media)"
      ],
      "metadata": {
        "colab": {
          "base_uri": "https://localhost:8080/"
        },
        "id": "DgbrdAboRasX",
        "outputId": "ba29c86e-39cd-44d5-da8f-d3ed1a2da625"
      },
      "execution_count": 14,
      "outputs": [
        {
          "output_type": "stream",
          "name": "stdout",
          "text": [
            "Digite a nota do 1º bimestre: 10\n",
            "Digite a nota do 2º bimestre: 10\n",
            "Digite a nota do 3º bimestre: 9\n",
            "Digite a nota do 4º bimestre: 8\n",
            "A media final é: 9.25\n"
          ]
        }
      ]
    },
    {
      "cell_type": "code",
      "source": [
        "raio = float (input(\"digite o raio do circulo: \"))\n",
        "\n",
        "area = 3.14 * (raio ** 2)\n",
        "print(\"A área do círculo é:\", area)"
      ],
      "metadata": {
        "colab": {
          "base_uri": "https://localhost:8080/"
        },
        "id": "ara-Q_RxtUOI",
        "outputId": "e357eb8b-98c7-4365-c35d-048b4b60fad1"
      },
      "execution_count": 1,
      "outputs": [
        {
          "output_type": "stream",
          "name": "stdout",
          "text": [
            "digite o raio do circulo: 15\n",
            "A área do círculo é: 706.5\n"
          ]
        }
      ]
    },
    {
      "cell_type": "code",
      "source": [
        "lado = float(input(\"Digite o comprimento do lado do quadrado: \"))\n",
        "area = lado ** 2\n",
        "dobro_area = 2 * area\n",
        "print(\"A área do quadrado é:\", area)\n",
        "print(\"O dobro da área do quadrado é:\", dobro_area)"
      ],
      "metadata": {
        "colab": {
          "base_uri": "https://localhost:8080/"
        },
        "id": "QIJlKxmFttEW",
        "outputId": "783d611d-de0a-4ee3-b3a0-494e37ff2321"
      },
      "execution_count": 2,
      "outputs": [
        {
          "output_type": "stream",
          "name": "stdout",
          "text": [
            "Digite o comprimento do lado do quadrado: 45\n",
            "A área do quadrado é: 2025.0\n",
            "O dobro da área do quadrado é: 4050.0\n"
          ]
        }
      ]
    },
    {
      "cell_type": "code",
      "source": [
        "valor_hora = float(input(\"Digite o valor que você ganha por hora: \"))\n",
        "horas_trabalhadas = float(input(\"Digite o número de horas trabalhadas no mês: \"))\n",
        "salario = valor_hora * horas_trabalhadas\n",
        "print(\"Seu salário neste mês é R$\", salario)"
      ],
      "metadata": {
        "colab": {
          "base_uri": "https://localhost:8080/"
        },
        "id": "B45MhK_VuI0N",
        "outputId": "700922e8-1085-46b1-caed-f15bf5dfe336"
      },
      "execution_count": 3,
      "outputs": [
        {
          "output_type": "stream",
          "name": "stdout",
          "text": [
            "Digite o valor que você ganha por hora: 56\n",
            "Digite o número de horas trabalhadas no mês: 15\n",
            "Seu salário neste mês é R$ 840.0\n"
          ]
        }
      ]
    },
    {
      "cell_type": "code",
      "source": [
        "valor = float(input(\"Digite um valor: \"))\n",
        "\n",
        "if valor > 0:\n",
        "    print(\"O valor é positivo!\")\n",
        "elif valor < 0:\n",
        "    print(\"O valor é negativo!\")\n",
        "else:\n",
        "    print(\"O valor é zero.\")"
      ],
      "metadata": {
        "colab": {
          "base_uri": "https://localhost:8080/"
        },
        "id": "cbFkl24huVlG",
        "outputId": "ce48d484-274e-4a0a-92c0-00d809bad12c"
      },
      "execution_count": 4,
      "outputs": [
        {
          "output_type": "stream",
          "name": "stdout",
          "text": [
            "Digite um valor: 56\n",
            "O valor é positivo!\n"
          ]
        }
      ]
    },
    {
      "cell_type": "code",
      "source": [
        "sexo = input(\"Digite o sexo (m/f): \")\n",
        "\n",
        "if sexo == \"f\":\n",
        "    print(\"Feminino\")\n",
        "elif sexo == \"m\":\n",
        "    print(\"Masculino\")\n",
        "else:\n",
        "    print(\"Sexo Inválido\")"
      ],
      "metadata": {
        "colab": {
          "base_uri": "https://localhost:8080/"
        },
        "id": "VuiM3APXulTn",
        "outputId": "574f4bc5-3ed7-4737-9e7c-2f779ed40818"
      },
      "execution_count": 6,
      "outputs": [
        {
          "output_type": "stream",
          "name": "stdout",
          "text": [
            "Digite o sexo (m/f): m\n",
            "Masculino\n"
          ]
        }
      ]
    }
  ]
}